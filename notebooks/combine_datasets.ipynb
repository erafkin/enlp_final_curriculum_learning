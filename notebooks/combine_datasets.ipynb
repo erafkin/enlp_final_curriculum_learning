{
 "cells": [
  {
   "cell_type": "code",
   "execution_count": 4,
   "id": "e1e73c76",
   "metadata": {},
   "outputs": [],
   "source": [
    "import os\n",
    "data_path = \"../data/train_100M\"\n",
    "full_dataset = []\n",
    "for dataset in os.listdir(data_path):\n",
    "    with open(f\"{data_path}/{dataset}\", \"r\") as f:\n",
    "        lines = f.readlines()\n",
    "        full_dataset += lines\n",
    "        f.close()"
   ]
  },
  {
   "cell_type": "code",
   "execution_count": 5,
   "id": "5df7c11f",
   "metadata": {},
   "outputs": [],
   "source": [
    "with open(\"../data/train_100M/train.train\", \"w\") as f:\n",
    "    dataset_string = \"\".join(full_dataset)\n",
    "    f.write(dataset_string)\n",
    "    f.close()"
   ]
  },
  {
   "cell_type": "code",
   "execution_count": 2,
   "id": "bf47e790",
   "metadata": {},
   "outputs": [
    {
     "name": "stdout",
     "output_type": "stream",
     "text": [
      "- Dad.\n",
      "\n",
      "- We're going right now, Martin, very far away\n",
      "\n",
      "(MARTIN PANTING)\n",
      "\n",
      "George, why are you waitin\n"
     ]
    }
   ],
   "source": [
    "with open(\"../data/train_100M/train.train\", \"r\") as f:\n",
    "    file = f.read()\n",
    "    print(file[0:100])\n",
    "    f.close()"
   ]
  }
 ],
 "metadata": {
  "kernelspec": {
   "display_name": "venv",
   "language": "python",
   "name": "python3"
  },
  "language_info": {
   "codemirror_mode": {
    "name": "ipython",
    "version": 3
   },
   "file_extension": ".py",
   "mimetype": "text/x-python",
   "name": "python",
   "nbconvert_exporter": "python",
   "pygments_lexer": "ipython3",
   "version": "3.10.16"
  }
 },
 "nbformat": 4,
 "nbformat_minor": 5
}
