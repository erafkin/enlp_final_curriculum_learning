{
 "cells": [
  {
   "cell_type": "code",
   "execution_count": null,
   "id": "e1e73c76",
   "metadata": {},
   "outputs": [],
   "source": [
    "import os\n",
    "data_path = \"../data/train_10M\"\n",
    "full_dataset = []\n",
    "for dataset in os.listdir(data_path):\n",
    "    with open(f\"{data_path}/{dataset}\", \"r\") as f:\n",
    "        lines = f.readlines()\n",
    "        full_dataset += lines\n",
    "        f.close()"
   ]
  },
  {
   "cell_type": "code",
   "execution_count": null,
   "id": "5df7c11f",
   "metadata": {},
   "outputs": [],
   "source": [
    "with open(\"../data/train_10M/train.train\", \"w\") as f:\n",
    "    dataset_string = \"\".join(full_dataset)\n",
    "    f.write(dataset_string)\n",
    "    f.close()"
   ]
  },
  {
   "cell_type": "code",
   "execution_count": null,
   "id": "bf47e790",
   "metadata": {},
   "outputs": [],
   "source": [
    "with open(\"../data/train_10M/train.train\", \"r\") as f:\n",
    "    file = f.read()\n",
    "    print(file[0:100])\n",
    "    f.close()"
   ]
  }
 ],
 "metadata": {
  "kernelspec": {
   "display_name": "venv",
   "language": "python",
   "name": "python3"
  },
  "language_info": {
   "codemirror_mode": {
    "name": "ipython",
    "version": 3
   },
   "file_extension": ".py",
   "mimetype": "text/x-python",
   "name": "python",
   "nbconvert_exporter": "python",
   "pygments_lexer": "ipython3",
   "version": "3.10.16"
  }
 },
 "nbformat": 4,
 "nbformat_minor": 5
}
